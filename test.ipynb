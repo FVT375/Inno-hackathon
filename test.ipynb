{
 "cells": [
  {
   "cell_type": "code",
   "execution_count": 1,
   "metadata": {},
   "outputs": [],
   "source": [
    "from deeppavlov import build_model, configs\n",
    "\n",
    "model = build_model(configs.squad.squad)"
   ]
  },
  {
   "cell_type": "code",
   "execution_count": 3,
   "metadata": {},
   "outputs": [
    {
     "data": {
      "text/plain": [
       "[['in the mountainous center of the northern Japanese island of Hokkaidō'],\n",
       " [90],\n",
       " [5855.91259765625]]"
      ]
     },
     "execution_count": 3,
     "metadata": {},
     "output_type": "execute_result"
    }
   ],
   "source": [
    "text = \"\"\"Daisetsuzan National Park (大雪山国立公園 Daisetsuzan Kokuritsu Kōen), or Taisetsuzan is located in the mountainous center of the northern Japanese island of Hokkaidō. At 2,267.64 square kilometres (875.54 sq mi), Daisetsuzan is the largest national park in Japan, and is approximately the size of Kanagawa Prefecture. Daisetsuzan, meaning \"great snowy mountains\", an apt description of these peaks. There are 16 peaks over 2,000 metres (6,600 ft) in Daisetsuzan National Park, both with and without trails. The park offers some of the most rugged scenery in Japan. Asahidake (2,290 metres (7,510 ft)), located in the north of the park, is the highest peak in Hokkaidō. Daisetsuzan National Park spans two subprefectures of Hokkaidō, Kamikawa and Tokachi. Daisetsuzan National Park was established in 1934\"\"\"\n",
    "question = \"where is it located\"\n",
    "model([text], [question])"
   ]
  },
  {
   "cell_type": "code",
   "execution_count": 12,
   "metadata": {
    "scrolled": true
   },
   "outputs": [
    {
     "name": "stderr",
     "output_type": "stream",
     "text": [
      "2018-11-24 23:17:26.523 INFO in 'deeppavlov.models.preprocessors.squad_preprocessor'['squad_preprocessor'] at line 313: SquadVocabEmbedder: loading saved tokens vocab from /home/fisher/.deeppavlov/models/squad_model_ru/emb/vocab_embedder.pckl\n",
      "2018-11-24 23:19:01.143 INFO in 'deeppavlov.models.preprocessors.squad_preprocessor'['squad_preprocessor'] at line 313: SquadVocabEmbedder: loading saved chars vocab from /home/fisher/.deeppavlov/models/squad_model_ru/emb/char_vocab_embedder.pckl\n",
      "Using TensorFlow backend.\n",
      "2018-11-24 23:26:32.376 INFO in 'deeppavlov.core.layers.tf_layers'['tf_layers'] at line 615: \n",
      "Warning! tf.contrib.cudnn_rnn.CudnnCompatibleGRUCell is used. It is okay for inference mode, but if you train your model with this cell it could NOT be used with tf.contrib.cudnn_rnn.CudnnGRUCell later. \n",
      "2018-11-24 23:27:00.750 WARNING in 'tensorflow'['tf_logging'] at line 125: From /home/fisher/GitHub/Inno-hackathon/env/lib/python3.6/site-packages/deeppavlov/core/layers/tf_layers.py:809: calling reverse_sequence (from tensorflow.python.ops.array_ops) with seq_dim is deprecated and will be removed in a future version.\n",
      "Instructions for updating:\n",
      "seq_dim is deprecated, use seq_axis instead\n",
      "2018-11-24 23:27:00.813 WARNING in 'tensorflow'['tf_logging'] at line 125: From /home/fisher/GitHub/Inno-hackathon/env/lib/python3.6/site-packages/tensorflow/python/util/deprecation.py:454: calling reverse_sequence (from tensorflow.python.ops.array_ops) with batch_dim is deprecated and will be removed in a future version.\n",
      "Instructions for updating:\n",
      "batch_dim is deprecated, use batch_axis instead\n",
      "2018-11-24 23:27:00.866 INFO in 'deeppavlov.core.layers.tf_layers'['tf_layers'] at line 615: \n",
      "Warning! tf.contrib.cudnn_rnn.CudnnCompatibleGRUCell is used. It is okay for inference mode, but if you train your model with this cell it could NOT be used with tf.contrib.cudnn_rnn.CudnnGRUCell later. \n",
      "2018-11-24 23:27:01.328 INFO in 'deeppavlov.core.layers.tf_layers'['tf_layers'] at line 615: \n",
      "Warning! tf.contrib.cudnn_rnn.CudnnCompatibleGRUCell is used. It is okay for inference mode, but if you train your model with this cell it could NOT be used with tf.contrib.cudnn_rnn.CudnnGRUCell later. \n",
      "2018-11-24 23:27:01.590 INFO in 'deeppavlov.core.layers.tf_layers'['tf_layers'] at line 615: \n",
      "Warning! tf.contrib.cudnn_rnn.CudnnCompatibleGRUCell is used. It is okay for inference mode, but if you train your model with this cell it could NOT be used with tf.contrib.cudnn_rnn.CudnnGRUCell later. \n",
      "2018-11-24 23:27:12.108 WARNING in 'tensorflow'['tf_logging'] at line 125: From /home/fisher/GitHub/Inno-hackathon/env/lib/python3.6/site-packages/deeppavlov/models/squad/squad.py:218: softmax_cross_entropy_with_logits (from tensorflow.python.ops.nn_ops) is deprecated and will be removed in a future version.\n",
      "Instructions for updating:\n",
      "\n",
      "Future major versions of TensorFlow will allow gradients to flow\n",
      "into the labels input on backprop by default.\n",
      "\n",
      "See @{tf.nn.softmax_cross_entropy_with_logits_v2}.\n",
      "\n",
      "2018-11-24 23:38:33.269 INFO in 'deeppavlov.core.models.tf_model'['tf_model'] at line 43: [loading model from /home/fisher/.deeppavlov/models/squad_model_ru/model]\n",
      "2018-11-24 23:39:58.534 INFO in 'tensorflow'['tf_logging'] at line 115: Restoring parameters from /home/fisher/.deeppavlov/models/squad_model_ru/model\n"
     ]
    }
   ],
   "source": [
    "model_ru = build_model(configs.squad.squad_ru)"
   ]
  },
  {
   "cell_type": "code",
   "execution_count": 15,
   "metadata": {},
   "outputs": [
    {
     "data": {
      "text/plain": [
       "'в предотвращении нарастающей деградации естественной среды планеты'"
      ]
     },
     "execution_count": 15,
     "metadata": {},
     "output_type": "execute_result"
    }
   ],
   "source": [
    "text = \"\"\"Всемирный фонд дикой природы (англ. World Wildlife Fund, сокр. WWF; в настоящее время официально называется Всемирный фонд природы (англ. World Wide Fund for Nature), только в США и Канаде сохранено старое название) — международная общественная организация, работающая в сферах, касающихся сохранения, исследования и восстановления окружающей среды. Это крупнейшая в мире независимая природоохранная организация с более чем 5 миллионами сторонников во всём мире[2], работающая в более чем 100[2] странах, поддерживающая около 1300[3] природоохранных проектов во всём мире.\n",
    "\n",
    "Миссия Всемирного фонда дикой природы заключается в предотвращении нарастающей деградации естественной среды планеты и достижении гармонии человека и природы. Главная цель — сохранение биологического разнообразия Земли[2].\"\"\"\n",
    "question = \"в чем миссия фонда?\"\n",
    "answer = model_ru([text], [question])[0][0]\n",
    "answer"
   ]
  },
  {
   "cell_type": "code",
   "execution_count": 2,
   "metadata": {},
   "outputs": [
    {
     "name": "stderr",
     "output_type": "stream",
     "text": [
      "[nltk_data] Error loading punkt: <urlopen error [Errno -2] Name or\n",
      "[nltk_data]     service not known>\n",
      "[nltk_data] Downloading package stopwords to /home/fisher/nltk_data...\n",
      "[nltk_data]   Package stopwords is already up-to-date!\n",
      "[nltk_data] Downloading package perluniprops to\n",
      "[nltk_data]     /home/fisher/nltk_data...\n",
      "[nltk_data]   Package perluniprops is already up-to-date!\n",
      "[nltk_data] Downloading package nonbreaking_prefixes to\n",
      "[nltk_data]     /home/fisher/nltk_data...\n",
      "[nltk_data]   Package nonbreaking_prefixes is already up-to-date!\n",
      "2018-11-24 23:07:23.803 INFO in 'deeppavlov.vocabs.typos'['typos'] at line 84: Loading a dictionary from /home/fisher/.deeppavlov/downloads/vocabs/russian_words_vocab\n",
      "2018-11-24 23:07:49.353 INFO in 'deeppavlov.models.spelling_correction.brillmoore.error_model'['error_model'] at line 237: loading error_model from `/home/fisher/.deeppavlov/models/error_model/error_model_ru.tsv`\n"
     ]
    }
   ],
   "source": [
    "CONFIG_PATH = configs.spelling_correction.brillmoore_kartaslov_ru\n",
    "\n",
    "model_corr = build_model(CONFIG_PATH)"
   ]
  },
  {
   "cell_type": "code",
   "execution_count": 11,
   "metadata": {},
   "outputs": [
    {
     "name": "stdout",
     "output_type": "stream",
     "text": [
      "антибактериальные\n"
     ]
    }
   ],
   "source": [
    "words = ['Антибактерыальные']\n",
    "for word in words:\n",
    "    print(model_corr([word])[0], flush=True)"
   ]
  }
 ],
 "metadata": {
  "kernelspec": {
   "display_name": "Python 3",
   "language": "python",
   "name": "python3"
  },
  "language_info": {
   "codemirror_mode": {
    "name": "ipython",
    "version": 3
   },
   "file_extension": ".py",
   "mimetype": "text/x-python",
   "name": "python",
   "nbconvert_exporter": "python",
   "pygments_lexer": "ipython3",
   "version": "3.6.7"
  }
 },
 "nbformat": 4,
 "nbformat_minor": 2
}
